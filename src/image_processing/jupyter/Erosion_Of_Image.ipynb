{
 "cells": [
  {
   "cell_type": "code",
   "execution_count": 1,
   "metadata": {},
   "outputs": [],
   "source": [
    "import numpy as np\n",
    "import matplotlib.pyplot as plt\n",
    "from PIL import Image\n",
    "import os\n",
    "import cv2\n"
   ]
  },
  {
   "cell_type": "code",
   "execution_count": 9,
   "metadata": {},
   "outputs": [],
   "source": [
    "def erode_img(src, kernel):\n",
    "    K, L = src.shape\n",
    "    dist = np.zeros((K, L), dtype=np.uint8)\n",
    "    for i in range(K-1):\n",
    "        for j in range(L-1):\n",
    "            if src[i, j] > 0:\n",
    "                pixel_check = {True if src[i+a, j+b] != 0 else False for a,b in kernel}\n",
    "                if False in pixel_check:\n",
    "                    dist[i, j] = 0\n",
    "                else:\n",
    "                    dist[i, j] = 1\n",
    "    return dist"
   ]
  },
  {
   "cell_type": "code",
   "execution_count": 33,
   "metadata": {},
   "outputs": [],
   "source": [
    "arr = [[0, 0, 0, 0, 0, 0, 0, 1],\n",
    "       [0, 1, 1, 1, 1, 1, 0, 0],\n",
    "       [0, 1, 1, 1, 1, 1, 0, 0],\n",
    "       [0, 1, 1, 1, 1, 1, 0, 0],\n",
    "       [0, 1, 1, 1, 1, 0, 1, 1],\n",
    "       [0, 1, 1, 1, 1, 0, 0, 1],\n",
    "       [0, 0, 0, 0, 0, 0, 1, 0],\n",
    "       [0, 0, 0, 0, 0, 0, 0, 1]]\n",
    "original_img = np.array(arr, dtype= np.uint8)\n",
    "img = original_img\n",
    "\n",
    "struct_element = [(-1,-1), (-1,0), (-1,1), (0,-1 ), (0, 0), (0,1), (1,-1), (1,0), (1,1)]"
   ]
  },
  {
   "cell_type": "code",
   "execution_count": 34,
   "metadata": {},
   "outputs": [
    {
     "data": {
      "text/plain": [
       "<matplotlib.image.AxesImage at 0x7fab7b59a7b8>"
      ]
     },
     "execution_count": 34,
     "metadata": {},
     "output_type": "execute_result"
    },
    {
     "data": {
      "image/png": "[encoded data removed]",
      "text/plain": [
       "<Figure size 432x288 with 1 Axes>"
      ]
     },
     "metadata": {
      "needs_background": "light"
     },
     "output_type": "display_data"
    }
   ],
   "source": [
    "plt.imshow(img, cmap=\"gray\")"
   ]
  },
  {
   "cell_type": "markdown",
   "metadata": {},
   "source": [
    "## Erosion using custom code"
   ]
  },
  {
   "cell_type": "code",
   "execution_count": 35,
   "metadata": {},
   "outputs": [
    {
     "data": {
      "text/plain": [
       "<matplotlib.image.AxesImage at 0x7fab7b5772e8>"
      ]
     },
     "execution_count": 35,
     "metadata": {},
     "output_type": "execute_result"
    },
    {
     "data": {
      "image/png": "[encoded data removed]",
      "text/plain": [
       "<Figure size 432x288 with 1 Axes>"
      ]
     },
     "metadata": {
      "needs_background": "light"
     },
     "output_type": "display_data"
    }
   ],
   "source": [
    "img = erode_img(img, struct_element)\n",
    "plt.imshow(img, cmap=\"gray\")"
   ]
  },
  {
   "cell_type": "markdown",
   "metadata": {},
   "source": [
    "## Erosion using openCV method"
   ]
  },
  {
   "cell_type": "code",
   "execution_count": 36,
   "metadata": {},
   "outputs": [
    {
     "data": {
      "text/plain": [
       "<matplotlib.image.AxesImage at 0x7fab7b548f28>"
      ]
     },
     "execution_count": 36,
     "metadata": {},
     "output_type": "execute_result"
    },
    {
     "data": {
      "image/png": "[encoded data removed]",
      "text/plain": [
       "<Figure size 432x288 with 1 Axes>"
      ]
     },
     "metadata": {
      "needs_background": "light"
     },
     "output_type": "display_data"
    }
   ],
   "source": [
    "kernel = np.ones((3,3))\n",
    "\n",
    "img = cv2.erode(original_img, kernel=kernel, iterations=1)\n",
    "plt.imshow(img, cmap=\"gray\")"
   ]
  }
 ],
 "metadata": {
  "kernelspec": {
   "display_name": "py3_env",
   "language": "python",
   "name": "py3_env"
  },
  "language_info": {
   "codemirror_mode": {
    "name": "ipython",
    "version": 3
   },
   "file_extension": ".py",
   "mimetype": "text/x-python",
   "name": "python",
   "nbconvert_exporter": "python",
   "pygments_lexer": "ipython3",
   "version": "3.6.8"
  }
 },
 "nbformat": 4,
 "nbformat_minor": 2
}
